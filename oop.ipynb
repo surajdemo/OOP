{
 "cells": [
  {
   "cell_type": "code",
   "execution_count": 94,
   "id": "681e05f8",
   "metadata": {},
   "outputs": [
    {
     "data": {
      "text/plain": [
       "35"
      ]
     },
     "execution_count": 94,
     "metadata": {},
     "output_type": "execute_result"
    }
   ],
   "source": [
    "#Challenge 1: Square Numbers and Return Their Sum\n",
    "\n",
    "class Point:\n",
    "\n",
    "    def __init__(self,x,y,z):\n",
    "        self.x = x\n",
    "        self.y = y\n",
    "        self.z = z\n",
    "\n",
    "    def sqSum(self,x,y,z):\n",
    "         return (x*x)+(y*y)+(z*z)\n",
    "s=Point(1,3,5)\n",
    "s.sqSum(1,3,5)\n",
    "\n"
   ]
  },
  {
   "cell_type": "code",
   "execution_count": 53,
   "id": "cca4666c",
   "metadata": {},
   "outputs": [
    {
     "name": "stdout",
     "output_type": "stream",
     "text": [
      "Enter first number:25\n",
      "Enter first number:5\n",
      "30\n",
      "20\n",
      "125\n",
      "5.0\n"
     ]
    }
   ],
   "source": [
    "#challenge 2: Implement a Calculator Class\n",
    "\n",
    "class Calculator:\n",
    "    def addition(self):\n",
    "        print(a + b)\n",
    "    def subtraction(self):\n",
    "        print(a - b)\n",
    "    def multiplication(self):\n",
    "        print(a * b)\n",
    "    def division(self):\n",
    "        print(a / b)\n",
    "a = int(input(\"Enter first number:\"))\n",
    "b = int(input(\"Enter first number:\"))\n",
    "obj = Calculator()\n",
    "obj.addition()\n",
    "obj.subtraction()\n",
    "obj.multiplication()\n",
    "obj.division()"
   ]
  },
  {
   "cell_type": "code",
   "execution_count": 15,
   "id": "bb43e58c",
   "metadata": {},
   "outputs": [
    {
     "name": "stdout",
     "output_type": "stream",
     "text": [
      "20\n",
      "suraj\n"
     ]
    }
   ],
   "source": [
    "#Challenge 3: Implement the Complete Student Class\n",
    "class student:\n",
    "    def __init__(self, Id = 0,name=None):\n",
    "         self._Id = Id\n",
    "         self._name=name\n",
    "    \n",
    "    def get_Id(self):\n",
    "        return self._age\n",
    "      \n",
    "    \n",
    "    def set_Id(self, x):\n",
    "        self._age = x\n",
    "        \n",
    "        \n",
    "    def get_name(self):\n",
    "        return self._name\n",
    "    \n",
    "    def set_name(self,y):\n",
    "        self._name=y\n",
    "  \n",
    "\n",
    "value = student()\n",
    "  \n",
    "\n",
    "value.set_Id(20)\n",
    "  \n",
    "\n",
    "print(value.get_Id())\n",
    "\n",
    "value.set_name(\"suraj\")\n",
    "print(value.get_name())\n",
    "  \n"
   ]
  },
  {
   "cell_type": "code",
   "execution_count": 106,
   "id": "5ba25a3b",
   "metadata": {},
   "outputs": [
    {
     "name": "stdout",
     "output_type": "stream",
     "text": [
      "suraj 32332 5\n"
     ]
    }
   ],
   "source": [
    "#Challenge 4: Implement a Banking Account\n",
    "class Account:\n",
    "\n",
    "    def __init__(self, name,balance,IR):\n",
    "        self.name=name\n",
    "        self.balance=balance\n",
    "        self.IR=IR\n",
    "    def x(self):\n",
    "        print(self.name,self.balance,self.IR)\n",
    "\n",
    "c=Account(\"suraj\",32332,5)\n",
    "c.x()\n",
    "        "
   ]
  },
  {
   "cell_type": "code",
   "execution_count": 82,
   "id": "54a56773",
   "metadata": {},
   "outputs": [
    {
     "name": "stdout",
     "output_type": "stream",
     "text": [
      "Hello!!! Welcome to the Deposit & Withdrawal Machine\n",
      "Enter amount to be Deposited: 43434\n",
      "\n",
      " Amount Deposited: 43434.0\n",
      "Enter amount to be Withdrawn: 3423\n",
      "\n",
      " You Withdrew: 3423.0\n",
      "\n",
      " Net Available Balance= 40011.0\n"
     ]
    }
   ],
   "source": [
    "#Challenge 5: Handling a Bank Account\n",
    "\n",
    "class Bank_Account:\n",
    "    def __init__(self):\n",
    "        self.balance=0\n",
    "        print(\" Welcome to the Deposit & Withdrawal Machine\")\n",
    " \n",
    "    def deposit(self):\n",
    "        amount=float(input(\"Enter amount to be Deposited: \"))\n",
    "        self.balance += amount\n",
    "        print(\"\\n Amount Deposited:\",amount)\n",
    " \n",
    "    def withdraw(self):\n",
    "        amount = float(input(\"Enter amount to be Withdrawn: \"))\n",
    "        if self.balance>=amount:\n",
    "            self.balance-=amount\n",
    "            print(\"\\n You Withdrew:\", amount)\n",
    "        else:\n",
    "            print(\"\\n Insufficient balance  \")\n",
    " \n",
    "    def display(self):\n",
    "        print(\"\\n Net Available Balance=\",self.balance)\n",
    " \n",
    "\n",
    "s = Bank_Account()\n",
    "  \n",
    "\n",
    "s.deposit()\n",
    "s.withdraw()\n",
    "s.display()"
   ]
  },
  {
   "cell_type": "code",
   "execution_count": 14,
   "id": "c12b4d52",
   "metadata": {},
   "outputs": [
    {
     "name": "stdout",
     "output_type": "stream",
     "text": [
      "20\n",
      "suraj\n"
     ]
    }
   ],
   "source": [
    "\n",
    "\n",
    "\n",
    "\n",
    "\n"
   ]
  },
  {
   "cell_type": "code",
   "execution_count": null,
   "id": "6c0b25b6",
   "metadata": {},
   "outputs": [],
   "source": []
  },
  {
   "cell_type": "code",
   "execution_count": null,
   "id": "149ff172",
   "metadata": {},
   "outputs": [],
   "source": []
  }
 ],
 "metadata": {
  "kernelspec": {
   "display_name": "Python 3 (ipykernel)",
   "language": "python",
   "name": "python3"
  },
  "language_info": {
   "codemirror_mode": {
    "name": "ipython",
    "version": 3
   },
   "file_extension": ".py",
   "mimetype": "text/x-python",
   "name": "python",
   "nbconvert_exporter": "python",
   "pygments_lexer": "ipython3",
   "version": "3.10.9"
  }
 },
 "nbformat": 4,
 "nbformat_minor": 5
}
